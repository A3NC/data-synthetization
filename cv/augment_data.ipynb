{
 "cells": [
  {
   "cell_type": "code",
   "execution_count": 2,
   "id": "947eb35d",
   "metadata": {},
   "outputs": [],
   "source": [
    "import cv2\n",
    "import numpy as np\n",
    "import os\n",
    "from tqdm import tqdm\n",
    "import random\n",
    "from skimage.util import random_noise\n",
    "\n",
    "def noise_Guassian(img):\n",
    "    img = random_noise(img, mode='gaussian', mean=0, var=0.01, clip=True)\n",
    "    img = (255*img).astype(np.uint8)\n",
    "    return img\n",
    "def noise_SP(img):\n",
    "    img = random_noise(img, mode='s&p', salt_vs_pepper=0.5, clip=True)\n",
    "    img = (255*img).astype(np.uint8)\n",
    "    return img\n",
    "def guass_blur(img):\n",
    "    kernel = np.ones((3,3),np.float32)/9\n",
    "    img = cv2.filter2D(img,-1,kernel)\n",
    "    return img\n",
    "def random_crop(img):\n",
    "    h,w,d = img.shape\n",
    "    sx,sy = random.randint(0,h//4), random.randint(0,w//4)\n",
    "    ex,ey = sx + random.randint(h//2,(h//4)*3), sy + random.randint(w//2,(w//4)*3)\n",
    "    img = img[sx:ex,sy:ey]\n",
    "    return img\n",
    "def flip(img):\n",
    "    h,w,d = img.shape\n",
    "    for i in range(h):\n",
    "        for j in range(w//2):\n",
    "            img[i][j], img[i][w-j-1] = img[i][w-j-1].copy(), img[i][j].copy()\n",
    "    return img"
   ]
  },
  {
   "cell_type": "code",
   "execution_count": 3,
   "id": "10fab073",
   "metadata": {},
   "outputs": [
    {
     "name": "stdout",
     "output_type": "stream",
     "text": [
      "Image directory path:/Users/sherry/Downloads/cv\n"
     ]
    },
    {
     "name": "stderr",
     "output_type": "stream",
     "text": [
      "100%|███████████████████████████████████████████| 21/21 [00:04<00:00,  4.53it/s]\n"
     ]
    }
   ],
   "source": [
    "def noise_augment(img,crop=True,canflip=True,blur=True):\n",
    "    if (random.random() < 0.5):\n",
    "        img = noise_Guassian(img)\n",
    "    else:\n",
    "        img = noise_SP(img)\n",
    "    if crop:\n",
    "        img = random_crop(img)\n",
    "    if (random.random()<0.5 and canflip):\n",
    "        img = flip(img)\n",
    "    if (random.random()<0.5 and blur):\n",
    "        img = guass_blur(img)\n",
    "    return img\n",
    "\n",
    "if __name__==\"__main__\":\n",
    "    path = input(\"Image directory path:\")\n",
    "    newpath = os.path.join(path,\"noise_augmented_imgs\")\n",
    "    if not os.path.exists(newpath):\n",
    "        os.makedirs(newpath)\n",
    "    supported_formats = [\"jpg\",'png','webp']\n",
    "    dir_list = os.listdir(path)\n",
    "    for i in tqdm(range(len(dir_list))):\n",
    "        f = dir_list[i]\n",
    "        if f.split(\".\")[-1] in supported_formats:\n",
    "            img = cv2.imread(os.path.join(path,f))\n",
    "            img = noise_augment(img)\n",
    "            cv2.imwrite(os.path.join(newpath,f),img)\n",
    "            "
   ]
  },
  {
   "cell_type": "code",
   "execution_count": null,
   "id": "c3b7a91c",
   "metadata": {},
   "outputs": [],
   "source": []
  }
 ],
 "metadata": {
  "kernelspec": {
   "display_name": "Python 3 (ipykernel)",
   "language": "python",
   "name": "python3"
  },
  "language_info": {
   "codemirror_mode": {
    "name": "ipython",
    "version": 3
   },
   "file_extension": ".py",
   "mimetype": "text/x-python",
   "name": "python",
   "nbconvert_exporter": "python",
   "pygments_lexer": "ipython3",
   "version": "3.11.4"
  }
 },
 "nbformat": 4,
 "nbformat_minor": 5
}
