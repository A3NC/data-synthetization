{
 "cells": [
  {
   "cell_type": "code",
   "execution_count": 187,
   "id": "8e2b5d44",
   "metadata": {},
   "outputs": [],
   "source": [
    "import cv2\n",
    "import numpy as np\n",
    "import random\n",
    "import torch\n",
    "from skimage.util import random_noise\n",
    "import os"
   ]
  },
  {
   "cell_type": "code",
   "execution_count": 99,
   "id": "670bb514",
   "metadata": {},
   "outputs": [],
   "source": [
    "def preprocess_base(original):\n",
    "    img = cv2.imread(original)\n",
    "    h,w,d = img.shape\n",
    "    nh = int(h*600/w)\n",
    "    nw = int(w*400/h)\n",
    "    if (nh>400):\n",
    "        img = cv2.resize(img, (600,nh))\n",
    "    else:\n",
    "        img = cv2.resize(img, (nw,400))\n",
    "    h,w,d = img.shape\n",
    "    img_cpd = img[h//2-200:h//2+200,w//2-300:w//2+300]\n",
    "    return img_cpd\n",
    "def preprocess_icons(original):\n",
    "    img = cv2.imread(original,cv2.IMREAD_UNCHANGED)\n",
    "    h,w,d = img.shape\n",
    "    img = cv2.resize(img, (12,12))\n",
    "    return img"
   ]
  },
  {
   "cell_type": "code",
   "execution_count": 100,
   "id": "af0f40c4",
   "metadata": {},
   "outputs": [],
   "source": [
    "bases = []\n",
    "for i in range(3):\n",
    "    basex = preprocess_base(f\"base{i}.png\")\n",
    "    bases.append(basex)\n",
    "    cv2.imwrite(os.path.join(os.getcwd(),\"bases\",f\"base{i}.png\"),basex)\n",
    "icons = []\n",
    "for i in range(1):\n",
    "    iconx = preprocess_icons(f\"icon{i}.png\")\n",
    "    icons.append(iconx)\n",
    "    cv2.imwrite(os.path.join(os.getcwd(),\"icons\",f\"icon{i}.png\"),iconx)"
   ]
  },
  {
   "cell_type": "code",
   "execution_count": 288,
   "id": "4ef2be3b",
   "metadata": {},
   "outputs": [],
   "source": [
    "def recolor(img):\n",
    "    import random\n",
    "#     img = cv2.imread(original)\n",
    "    b = random.random()*0.6+0.4\n",
    "    g = random.random()*(1-b)\n",
    "    r = 1-g-b\n",
    "    h,w,d = img.shape\n",
    "    for i in range(h):\n",
    "        for j in range(w):\n",
    "            s = sum(list(img[i][j]))\n",
    "            img[i][j] = np.array(recolor_pix([b,g,r],s))\n",
    "    # cv2.imwrite(new,img)\n",
    "    return img\n",
    "\n",
    "def recolor_pix(coloring, original):\n",
    "    b,g,r = [(coloring[i]*original) for i in range(3)]\n",
    "    g = g+max(0,b-255)\n",
    "    r = r+max(0,g-255)\n",
    "    b = b+max(0,r-255)\n",
    "    return [min(255,b),min(255,g),min(255,r)]\n",
    "        "
   ]
  },
  {
   "cell_type": "code",
   "execution_count": 66,
   "id": "df855bb0",
   "metadata": {},
   "outputs": [],
   "source": [
    "recolor(\"base2.png\",\"test?.png\")"
   ]
  },
  {
   "cell_type": "code",
   "execution_count": 182,
   "id": "f071587d",
   "metadata": {},
   "outputs": [
    {
     "data": {
      "text/plain": [
       "True"
      ]
     },
     "execution_count": 182,
     "metadata": {},
     "output_type": "execute_result"
    }
   ],
   "source": [
    "def generate_loc(img,size):\n",
    "    brightness = -70\n",
    "    contrast = 2\n",
    "    img2 = cv2.addWeighted(img, contrast, np.zeros(img.shape, img.dtype), contrast, brightness)\n",
    "    img2 = cv2.cvtColor(img2, cv2.COLOR_BGR2GRAY)\n",
    "    locs = []\n",
    "    while size>0:\n",
    "        x,y = random.randint(50,550), random.randint(50,350)\n",
    "        if img2[y][x] == 255:\n",
    "            continue\n",
    "        else :\n",
    "            size-=1\n",
    "            locs.append([x,y])\n",
    "    return locs\n",
    "\n",
    "def generate_edges_Bidirectional(num_edges,num_nodes):\n",
    "    adj = [set() for i in range(num_nodes)]\n",
    "    nodes = set(range(num_nodes))\n",
    "    count = 0\n",
    "    while num_edges > count:\n",
    "        source = random.randint(0,num_nodes-1)\n",
    "        targets = list(nodes - adj[source])\n",
    "        if len(targets)>0:\n",
    "            target = random.sample(targets,1).pop()\n",
    "            adj[source].add(target)\n",
    "            adj[target].add(source)\n",
    "            count += 1\n",
    "    return adj\n",
    "def plot_nodes_and_edges(img,num_edges,num_nodes,node_clr,edge_clr):\n",
    "    nodes = generate_loc(img,num_nodes)\n",
    "    adj = generate_edges_Bidirectional(num_edges,num_nodes)\n",
    "    for i in range(num_nodes):\n",
    "        adjacents = adj[i]\n",
    "        while adjacents:\n",
    "            j = adjacents.pop()\n",
    "            if (i<j):\n",
    "                img = cv2.line(img,nodes[i],nodes[j],edge_clr,2)\n",
    "        img = cv2.circle(img,nodes[i],5,node_clr,-1)\n",
    "    return img    \n",
    "    \n",
    "\n",
    "img = recolor(\"base.png\")\n",
    "img_new = plot_nodes_and_edges(img,20,10,(255,0,0),(0,0,255))\n",
    "cv2.imwrite(\"blehhh.png\",img_new)"
   ]
  },
  {
   "cell_type": "code",
   "execution_count": 289,
   "id": "d0804c8b",
   "metadata": {},
   "outputs": [
    {
     "name": "stderr",
     "output_type": "stream",
     "text": [
      "100%|█████████████████████████████████████████████| 4/4 [00:07<00:00,  1.90s/it]\n",
      "100%|█████████████████████████████████████████████| 4/4 [00:07<00:00,  1.86s/it]\n",
      "100%|█████████████████████████████████████████████| 4/4 [00:06<00:00,  1.72s/it]\n"
     ]
    }
   ],
   "source": [
    "colors = [(37,37,37),(204,79,73),(255,255,255),(50,50,229)]\n",
    "path = os.path.join(os.getcwd(),\"syndata\")\n",
    "if not os.path.exists(path):\n",
    "    os.makedirs(path)\n",
    "for b in range(3):\n",
    "    base = cv2.imread(os.path.join(os.getcwd(),\"bases\",f\"base{b}.png\"))\n",
    "    for i in tqdm(range(4)):\n",
    "        base_rclr = recolor(base)\n",
    "        for j in range(50):\n",
    "            num_nodes = random.randint(3,15)\n",
    "            num_edges = random.randint(5,num_nodes*2)\n",
    "            node_clr,edge_clr = random.sample(colors,2)\n",
    "            img_new = base_rclr.copy()\n",
    "            img_new = plot_nodes_and_edges(img_new,num_edges,num_nodes,node_clr,edge_clr)\n",
    "            cv2.imwrite(os.path.join(path,f\"syn{b}-{i}-{j}.png\"),img_new)"
   ]
  },
  {
   "cell_type": "code",
   "execution_count": 325,
   "id": "9a48e1b4",
   "metadata": {},
   "outputs": [],
   "source": [
    "import cv2\n",
    "import numpy as np\n",
    "import os\n",
    "from tqdm import tqdm\n",
    "import random\n",
    "from skimage.util import random_noise\n",
    "\n",
    "def noise_Guassian(img):\n",
    "    img = random_noise(img, mode='gaussian', mean=0, var=0.01, clip=True)\n",
    "    img = (255*img).astype(np.uint8)\n",
    "    return img\n",
    "def noise_SP(img):\n",
    "    img = random_noise(img, mode='s&p', salt_vs_pepper=0.5, clip=True)\n",
    "    img = (255*img).astype(np.uint8)\n",
    "    return img\n",
    "def guass_blur(img):\n",
    "    kernel = np.ones((3,3),np.float32)/9\n",
    "    img = cv2.filter2D(img,-1,kernel)\n",
    "    return img\n",
    "def resize_blur(img):\n",
    "    h,w,d = img.shape\n",
    "    img = cv2.resize(img,(int(w*1.2),int(h*1.2)),interpolation = cv2.INTER_LINEAR)\n",
    "    img = cv2.resize(img,(w,h),interpolation = cv2.INTER_LINEAR)\n",
    "    return img\n",
    "def random_crop(img):\n",
    "    h,w,d = img.shape\n",
    "    sx,sy = random.randint(0,h//4), random.randint(0,w//4)\n",
    "    ex,ey = sx + random.randint(h//2,(h//4)*3), sy + random.randint(w//2,(w//4)*3)\n",
    "    img = img[sx:ex,sy:ey]\n",
    "    return img\n",
    "def flip(img):\n",
    "    h,w,d = img.shape\n",
    "    for i in range(h):\n",
    "        for j in range(w//2):\n",
    "            img[i][j], img[i][w-j-1] = img[i][w-j-1].copy(), img[i][j].copy()\n",
    "    return img"
   ]
  },
  {
   "cell_type": "code",
   "execution_count": 368,
   "id": "e82ab03d",
   "metadata": {},
   "outputs": [
    {
     "name": "stdout",
     "output_type": "stream",
     "text": [
      "Image directory path:/Users/sherry/Downloads/cv/syndata_curved_w_data\n"
     ]
    },
    {
     "name": "stderr",
     "output_type": "stream",
     "text": [
      "100%|█████████████████████████████████████████| 604/604 [00:16<00:00, 36.05it/s]\n"
     ]
    }
   ],
   "source": [
    "def noise_augment(img,crop=True,canflip=True,blur=True):\n",
    "    if (random.random() < 0.5):\n",
    "        img = noise_Guassian(img)\n",
    "    else:\n",
    "        img = noise_SP(img)\n",
    "    if crop:\n",
    "        img = random_crop(img)\n",
    "    if (random.random()<0.5 and canflip):\n",
    "        img = flip(img)\n",
    "    if (random.random()<0.5 and blur):\n",
    "        img = guass_blur(img)\n",
    "    return img\n",
    "\n",
    "if __name__==\"__main__\":\n",
    "    path = input(\"Image directory path:\")\n",
    "    newpath = os.path.join(path,\"noise_augmented_imgs\")\n",
    "    if not os.path.exists(newpath):\n",
    "        os.makedirs(newpath)\n",
    "    supported_formats = [\"jpg\",'png','webp']\n",
    "    dir_list = os.listdir(path)\n",
    "    for i in tqdm(range(len(dir_list))):\n",
    "        f = dir_list[i]\n",
    "        if f.split(\".\")[-1] in supported_formats:\n",
    "            img = cv2.imread(os.path.join(path,f))\n",
    "            img = resize_blur(img)\n",
    "            img = guass_blur(img)\n",
    "            img = noise_augment(img,blur = False,crop=False,canflip=False)\n",
    "            cv2.imwrite(os.path.join(newpath,f),img)\n",
    "            "
   ]
  },
  {
   "cell_type": "code",
   "execution_count": 340,
   "id": "17a4cab8",
   "metadata": {},
   "outputs": [],
   "source": [
    "def hanging_line(point1, point2):\n",
    "    import numpy as np\n",
    "\n",
    "    a = (point2[1] - point1[1])/(np.cosh(point2[0]) - np.cosh(point1[0]))\n",
    "    b = point1[1] - a*np.cosh(point1[0])\n",
    "    x = np.linspace(point1[0], point2[0], 500)\n",
    "    y = a*np.cosh(x) + b\n",
    "\n",
    "    return (x,y)\n",
    "\n",
    "def plot_hanging_line(img,a,b,clr):\n",
    "    pa = [i/100 for i in a]\n",
    "    pb = [j/100 for j in b]\n",
    "    h,w,d = img.shape\n",
    "    x,y = hanging_line([w/100 - pa[0], h/100 - pa[1]],[w/100 - pb[0],h/100 - pb[1]])\n",
    "    for i in range(len(x)):\n",
    "        img[h-int(y[i]*100)][w-int(x[i]*100)] = clr\n",
    "    return img\n",
    "    \n",
    "def plot_reverse_hanging_line(img,a,b,clr):\n",
    "    pa = [i/100 for i in a]\n",
    "    pb = [j/100 for j in b]\n",
    "    x,y = hanging_line(pa,pb)\n",
    "    for i in range(len(x)):\n",
    "        img[int(y[i]*100)][int(x[i]*100)] = clr\n",
    "    return img\n",
    "    \n",
    "def plot_nodes_and_edges_curved(img,num_edges,num_nodes,node_clr,edge_clr,randomness=0.5):\n",
    "    nodes = generate_loc(img,num_nodes)\n",
    "    node_size = random.randint(2,6)\n",
    "    adj = generate_edges_Bidirectional(num_edges,num_nodes)\n",
    "    for i in range(num_nodes):\n",
    "        adjacents = adj[i]\n",
    "        while adjacents:\n",
    "            j = adjacents.pop()\n",
    "            if (i<j):\n",
    "                if (nodes[i][0] == nodes[j][0] or nodes[i][1]==nodes[j][1]):\n",
    "                    img = cv2.line(img,nodes[i],nodes[j],edge_clr,1)\n",
    "                    continue\n",
    "                reverse = random.random()\n",
    "                if reverse<randomness:\n",
    "                    img = plot_reverse_hanging_line(img,nodes[i],nodes[j],edge_clr)\n",
    "                else:\n",
    "                    img = plot_hanging_line(img,nodes[i],nodes[j],edge_clr)\n",
    "        img = cv2.circle(img,nodes[i],node_size,node_clr,-1)\n",
    "    return img "
   ]
  },
  {
   "cell_type": "code",
   "execution_count": 341,
   "id": "961a3b10",
   "metadata": {},
   "outputs": [
    {
     "name": "stderr",
     "output_type": "stream",
     "text": [
      "100%|█████████████████████████████████████████████| 4/4 [00:05<00:00,  1.38s/it]\n",
      "100%|█████████████████████████████████████████████| 4/4 [00:04<00:00,  1.23s/it]\n",
      "100%|█████████████████████████████████████████████| 4/4 [00:05<00:00,  1.30s/it]\n"
     ]
    }
   ],
   "source": [
    "colors = [(37,37,37),(204,79,73),(255,255,255),(50,50,229)]\n",
    "path = os.path.join(os.getcwd(),\"syndata_curved\")\n",
    "if not os.path.exists(path):\n",
    "    os.makedirs(path)\n",
    "for b in range(3):\n",
    "    base = cv2.imread(os.path.join(os.getcwd(),\"bases\",f\"base{b}.png\"))\n",
    "    for i in tqdm(range(4)):\n",
    "        base_rclr = recolor(base)\n",
    "        for j in range(50):\n",
    "            num_nodes = random.randint(3,15)\n",
    "            num_edges = random.randint(5,num_nodes*2)\n",
    "            node_clr,edge_clr = random.sample(colors,2)\n",
    "            img_new = base_rclr.copy()\n",
    "            img_new = plot_nodes_and_edges_curved(img_new,num_edges,num_nodes,node_clr,edge_clr)\n",
    "            cv2.imwrite(os.path.join(path,f\"syn{b}-{i}-{j}.png\"),img_new)"
   ]
  },
  {
   "cell_type": "code",
   "execution_count": 369,
   "id": "06c45b64",
   "metadata": {},
   "outputs": [],
   "source": [
    "def plot_nodes_and_edges_curved_data(img,num_edges,num_nodes,node_clr,edge_clr,randomness=0.5):\n",
    "    nodes = generate_loc(img,num_nodes)\n",
    "    node_size = random.randint(2,6)\n",
    "    adj = generate_edges_Bidirectional(num_edges,num_nodes)\n",
    "    edgs = []\n",
    "    for i in range(num_nodes):\n",
    "        adjacents = adj[i]\n",
    "        while adjacents:\n",
    "            j = adjacents.pop()\n",
    "            if (i<j):\n",
    "                edgs.append([i,j])\n",
    "                if (nodes[i][0] == nodes[j][0] or nodes[i][1]==nodes[j][1]):\n",
    "                    img = cv2.line(img,nodes[i],nodes[j],edge_clr,1)\n",
    "                    continue\n",
    "                reverse = random.random()\n",
    "                if reverse<randomness:\n",
    "                    img = plot_reverse_hanging_line(img,nodes[i],nodes[j],edge_clr)\n",
    "                else:\n",
    "                    img = plot_hanging_line(img,nodes[i],nodes[j],edge_clr)\n",
    "        img = cv2.circle(img,nodes[i],node_size,node_clr,-1)\n",
    "    return img,nodes,edgs\n"
   ]
  },
  {
   "cell_type": "code",
   "execution_count": 367,
   "id": "7702a5f1",
   "metadata": {},
   "outputs": [
    {
     "name": "stderr",
     "output_type": "stream",
     "text": [
      "100%|█████████████████████████████████████████████| 4/4 [00:08<00:00,  2.02s/it]\n",
      "100%|█████████████████████████████████████████████| 4/4 [00:07<00:00,  1.85s/it]\n",
      "100%|█████████████████████████████████████████████| 4/4 [00:07<00:00,  1.96s/it]\n"
     ]
    }
   ],
   "source": [
    "import csv\n",
    "import pandas as pd\n",
    "colors = [(37,37,37),(204,79,73),(179,0,98),(50,50,229),(40,6,41),(118,99,251)]\n",
    "path = os.path.join(os.getcwd(),\"syndata_curved_w_data\")\n",
    "if not os.path.exists(path):\n",
    "    os.makedirs(path)\n",
    "fields = [\"img_name\",\"nodes\",\"edges\"]\n",
    "rows = []\n",
    "for b in range(3):\n",
    "    base = cv2.imread(os.path.join(os.getcwd(),\"bases\",f\"base{b}.png\"))\n",
    "    for i in tqdm(range(4)):\n",
    "        base_rclr = recolor(base)\n",
    "        for j in range(50):\n",
    "            num_nodes = random.randint(3,15)\n",
    "            num_edges = random.randint(5,num_nodes*2)\n",
    "            node_clr,edge_clr = random.sample(colors,2)\n",
    "            img_new = base_rclr.copy()\n",
    "            img_new, nodes, adj = plot_nodes_and_edges_curved_data(img_new,num_edges,num_nodes,node_clr,edge_clr)\n",
    "            rows.append([f\"syn{b}-{i}-{j}.png\",nodes,adj])\n",
    "            cv2.imwrite(os.path.join(path,f\"syn{b}-{i}-{j}.png\"),img_new)\n",
    "\n",
    "filename = os.path.join(path,\"data.csv\")\n",
    "with open(filename, 'w') as csvfile:   \n",
    "    csvwriter = csv.writer(csvfile)   \n",
    "    csvwriter.writerow(fields) \n",
    "    csvwriter.writerows(rows) \n",
    "    \n",
    "df = pd.DataFrame(rows, columns = [\"Name\",\"Nodes\",\"Edges\"])\n",
    "df.to_pickle(os.path.join(path,\"data.pkl\"))"
   ]
  },
  {
   "cell_type": "code",
   "execution_count": null,
   "id": "7d22ecb1",
   "metadata": {},
   "outputs": [],
   "source": []
  }
 ],
 "metadata": {
  "kernelspec": {
   "display_name": "Python 3 (ipykernel)",
   "language": "python",
   "name": "python3"
  },
  "language_info": {
   "codemirror_mode": {
    "name": "ipython",
    "version": 3
   },
   "file_extension": ".py",
   "mimetype": "text/x-python",
   "name": "python",
   "nbconvert_exporter": "python",
   "pygments_lexer": "ipython3",
   "version": "3.11.4"
  }
 },
 "nbformat": 4,
 "nbformat_minor": 5
}
